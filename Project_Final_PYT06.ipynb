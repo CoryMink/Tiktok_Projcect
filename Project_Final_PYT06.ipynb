{
 "cells": [
  {
   "cell_type": "markdown",
   "id": "2c4d2a4a",
   "metadata": {
    "id": "2c4d2a4a"
   },
   "source": [
    "# Project - Data Science"
   ]
  },
  {
   "cell_type": "markdown",
   "id": "5ea71e33",
   "metadata": {
    "id": "5ea71e33"
   },
   "source": [
    "## Fullname (nickname): Supadit Wanotayapitak (MINK)\n"
   ]
  },
  {
   "cell_type": "markdown",
   "id": "ebdddc20",
   "metadata": {
    "id": "ebdddc20"
   },
   "source": [
    "## Project Topic: I wanna be a Tiktok Star☆"
   ]
  },
  {
   "cell_type": "markdown",
   "id": "72634ac4",
   "metadata": {
    "id": "72634ac4"
   },
   "source": [
    "---\n",
    "## Current Situation / Problem Statement\n",
    "\n",
    "My Tiktok followers stop growing around 9,xxx for a couple of months\n",
    "\n",
    "\n",
    "\n",
    "\n"
   ]
  },
  {
   "cell_type": "markdown",
   "id": "e25a6d8b",
   "metadata": {
    "id": "e25a6d8b"
   },
   "source": [
    "## Objectives:\n",
    "1. Increase Engagement from active followers (like, comment, share)\n",
    "2. Reach out new followers"
   ]
  },
  {
   "cell_type": "markdown",
   "id": "ef56e2c7",
   "metadata": {
    "id": "ef56e2c7"
   },
   "source": [
    "## Hypothesis-driven Questions:\n",
    "\n",
    "\n",
    "1.  Users are drawn by certain kind of content\n",
    "2.  Either Video or Live is better for new followers\n",
    "3.  There are Days of the week or period of the day that users are more active \n",
    "\n"
   ]
  },
  {
   "cell_type": "markdown",
   "id": "b8fc8d22",
   "metadata": {
    "id": "b8fc8d22"
   },
   "source": [
    "## Dataset:\n",
    "Data from Tiktok Analytics "
   ]
  },
  {
   "cell_type": "code",
   "execution_count": 2,
   "id": "ea5e1491",
   "metadata": {
    "id": "ea5e1491"
   },
   "outputs": [],
   "source": [
    "#import important libaries and csv files.\n",
    "import pandas as pd\n",
    "import matplotlib.pyplot as plt\n",
    "ld = pd.read_csv('./Last 60 Days.csv')\n",
    "li = pd.read_csv('./Live_interaction.csv')\n",
    "fa = pd.read_csv('./Follower activity.csv')\n",
    "tv = pd.read_csv('./Trending videos.csv')\n",
    "tf = pd.read_csv('./Total followers.csv')"
   ]
  },
  {
   "cell_type": "markdown",
   "id": "96dd4024",
   "metadata": {
    "id": "96dd4024"
   },
   "source": [
    "\n",
    "## Data Preparation (Data Cleaning):\n"
   ]
  },
  {
   "cell_type": "markdown",
   "id": "80b3ab86",
   "metadata": {
    "id": "80b3ab86"
   },
   "source": [
    "1. All datas from Tiktok Analytics are completed\n",
    "2. Merge DataFrame of \"Last 60 Days\" & \"Live_interaction\" for comparison"
   ]
  },
  {
   "cell_type": "markdown",
   "id": "9db0fe66",
   "metadata": {},
   "source": [
    "### Merge \"Last 60 Days.csv\", \"Live_interaction.csv\", and \"Total Followers.csv\" for comparison\n"
   ]
  },
  {
   "cell_type": "code",
   "execution_count": 2,
   "id": "f9822100",
   "metadata": {
    "id": "f9822100"
   },
   "outputs": [
    {
     "data": {
      "text/html": [
       "<div>\n",
       "<style scoped>\n",
       "    .dataframe tbody tr th:only-of-type {\n",
       "        vertical-align: middle;\n",
       "    }\n",
       "\n",
       "    .dataframe tbody tr th {\n",
       "        vertical-align: top;\n",
       "    }\n",
       "\n",
       "    .dataframe thead th {\n",
       "        text-align: right;\n",
       "    }\n",
       "</style>\n",
       "<table border=\"1\" class=\"dataframe\">\n",
       "  <thead>\n",
       "    <tr style=\"text-align: right;\">\n",
       "      <th></th>\n",
       "      <th>Date_x</th>\n",
       "      <th>Video views</th>\n",
       "      <th>Profile views</th>\n",
       "      <th>Likes_x</th>\n",
       "      <th>Comments</th>\n",
       "      <th>Shares_x</th>\n",
       "      <th>Date_y</th>\n",
       "      <th>New followers</th>\n",
       "      <th>Viewers who commented</th>\n",
       "      <th>Likes_y</th>\n",
       "      <th>Shares_y</th>\n",
       "      <th>Date</th>\n",
       "      <th>Followers</th>\n",
       "      <th>Difference in followers from previous day</th>\n",
       "    </tr>\n",
       "  </thead>\n",
       "  <tbody>\n",
       "    <tr>\n",
       "      <th>0</th>\n",
       "      <td>20/6/2022</td>\n",
       "      <td>180</td>\n",
       "      <td>3</td>\n",
       "      <td>44</td>\n",
       "      <td>0</td>\n",
       "      <td>1</td>\n",
       "      <td>20/6/2022</td>\n",
       "      <td>0</td>\n",
       "      <td>0</td>\n",
       "      <td>0</td>\n",
       "      <td>0</td>\n",
       "      <td>20/6/2022</td>\n",
       "      <td>9790</td>\n",
       "      <td>1</td>\n",
       "    </tr>\n",
       "    <tr>\n",
       "      <th>1</th>\n",
       "      <td>21/6/2022</td>\n",
       "      <td>318</td>\n",
       "      <td>15</td>\n",
       "      <td>11</td>\n",
       "      <td>3</td>\n",
       "      <td>0</td>\n",
       "      <td>21/6/2022</td>\n",
       "      <td>0</td>\n",
       "      <td>0</td>\n",
       "      <td>0</td>\n",
       "      <td>0</td>\n",
       "      <td>21/6/2022</td>\n",
       "      <td>9791</td>\n",
       "      <td>1</td>\n",
       "    </tr>\n",
       "    <tr>\n",
       "      <th>2</th>\n",
       "      <td>22/6/2022</td>\n",
       "      <td>390</td>\n",
       "      <td>6</td>\n",
       "      <td>20</td>\n",
       "      <td>0</td>\n",
       "      <td>0</td>\n",
       "      <td>22/6/2022</td>\n",
       "      <td>0</td>\n",
       "      <td>0</td>\n",
       "      <td>0</td>\n",
       "      <td>0</td>\n",
       "      <td>22/6/2022</td>\n",
       "      <td>9791</td>\n",
       "      <td>0</td>\n",
       "    </tr>\n",
       "    <tr>\n",
       "      <th>3</th>\n",
       "      <td>23/6/2022</td>\n",
       "      <td>77</td>\n",
       "      <td>0</td>\n",
       "      <td>2</td>\n",
       "      <td>0</td>\n",
       "      <td>0</td>\n",
       "      <td>23/6/2022</td>\n",
       "      <td>0</td>\n",
       "      <td>0</td>\n",
       "      <td>0</td>\n",
       "      <td>0</td>\n",
       "      <td>23/6/2022</td>\n",
       "      <td>9790</td>\n",
       "      <td>-1</td>\n",
       "    </tr>\n",
       "    <tr>\n",
       "      <th>4</th>\n",
       "      <td>24/6/2022</td>\n",
       "      <td>83</td>\n",
       "      <td>3</td>\n",
       "      <td>3</td>\n",
       "      <td>0</td>\n",
       "      <td>2</td>\n",
       "      <td>24/6/2022</td>\n",
       "      <td>0</td>\n",
       "      <td>0</td>\n",
       "      <td>0</td>\n",
       "      <td>0</td>\n",
       "      <td>24/6/2022</td>\n",
       "      <td>9792</td>\n",
       "      <td>2</td>\n",
       "    </tr>\n",
       "  </tbody>\n",
       "</table>\n",
       "</div>"
      ],
      "text/plain": [
       "      Date_x  Video views  Profile views  Likes_x  Comments  Shares_x  \\\n",
       "0  20/6/2022          180              3       44         0         1   \n",
       "1  21/6/2022          318             15       11         3         0   \n",
       "2  22/6/2022          390              6       20         0         0   \n",
       "3  23/6/2022           77              0        2         0         0   \n",
       "4  24/6/2022           83              3        3         0         2   \n",
       "\n",
       "      Date_y   New followers  Viewers who commented  Likes_y  Shares_y  \\\n",
       "0  20/6/2022               0                      0        0         0   \n",
       "1  21/6/2022               0                      0        0         0   \n",
       "2  22/6/2022               0                      0        0         0   \n",
       "3  23/6/2022               0                      0        0         0   \n",
       "4  24/6/2022               0                      0        0         0   \n",
       "\n",
       "        Date  Followers  Difference in followers from previous day  \n",
       "0  20/6/2022       9790                                          1  \n",
       "1  21/6/2022       9791                                          1  \n",
       "2  22/6/2022       9791                                          0  \n",
       "3  23/6/2022       9790                                         -1  \n",
       "4  24/6/2022       9792                                          2  "
      ]
     },
     "execution_count": 2,
     "metadata": {},
     "output_type": "execute_result"
    }
   ],
   "source": [
    "#The table below are Video Data, Live Data, and Difference in followers from previous day (DFPD)\n",
    "\n",
    "# merge ld and li first\n",
    "ld_li = pd.merge(ld, li, how ='left', left_index = True , right_index = True)\n",
    "\n",
    "# then merge ld_li with tf\n",
    "complete = pd.merge(ld_li, tf, how ='left', left_index = True , right_index = True)\n",
    "complete.head()\n",
    "\n",
    "#              [Videos Data]           ||               [Live Data]                   ||              [DFPD]   \n"
   ]
  },
  {
   "cell_type": "markdown",
   "id": "8a175bbc",
   "metadata": {},
   "source": [
    "## Visualization of Followers (20/6/22 - 17/8/22)"
   ]
  },
  {
   "cell_type": "code",
   "execution_count": 27,
   "id": "94a93cea",
   "metadata": {
    "scrolled": false
   },
   "outputs": [
    {
     "data": {
      "image/png": "[encoded data removed]",
      "text/plain": [
       "<Figure size 1008x432 with 1 Axes>"
      ]
     },
     "metadata": {
      "needs_background": "light"
     },
     "output_type": "display_data"
    }
   ],
   "source": [
    "#set x axis, and y axis\n",
    "plt.style.use('bmh')\n",
    "plt.figure(figsize=(14,6))\n",
    "x = tf['Date']\n",
    "y = tf['Followers']\n",
    "#Line graph\n",
    "plt.title(\"Trend of Followers in 60 days\", size = 18)\n",
    "plt.xlabel('Date', fontsize=16)\n",
    "plt.ylabel('Followers', fontsize=16)\n",
    "plt.scatter(x, y)\n",
    "plt.plot(x, y)\n",
    "plt.xticks([0,10,20,30,40,50,58], rotation=0)\n",
    "plt.show()"
   ]
  },
  {
   "cell_type": "markdown",
   "id": "00c03466",
   "metadata": {},
   "source": [
    "From chart above you can see that followers increase and decrease through the course of time, but stop moving after 35th position  or 24/7/22"
   ]
  },
  {
   "cell_type": "markdown",
   "id": "810096a9",
   "metadata": {
    "id": "810096a9"
   },
   "source": [
    "## Exploratory Data Analysis (EDA):"
   ]
  },
  {
   "cell_type": "markdown",
   "id": "451e3c4a",
   "metadata": {
    "id": "609ea8ce"
   },
   "source": [
    "1. Sort Video from Greater comments to Lower comments\n",
    "2. Sort New followers from Live\n",
    "3. Sort Followers activity"
   ]
  },
  {
   "cell_type": "markdown",
   "id": "4c67e21a",
   "metadata": {},
   "source": [
    "#### Find mean value in Comments, Views, Likes, and Followers gain for further comparison"
   ]
  },
  {
   "cell_type": "code",
   "execution_count": 4,
   "id": "0fe45f51",
   "metadata": {},
   "outputs": [
    {
     "name": "stdout",
     "output_type": "stream",
     "text": [
      "Mean Video views is  1134.8305084745762\n",
      "Mean Likes is  54.355932203389834\n",
      "Mean Comments is  4.559322033898305\n",
      "Mean DFPD is  1.2203389830508475\n"
     ]
    }
   ],
   "source": [
    "#I put mean value in string before print it out in \n",
    "#Three Two One Boom!!!\n",
    "\n",
    "Three = complete['Video views'].mean()\n",
    "Two = complete['Likes_x'].mean()\n",
    "One =complete['Comments'].mean()\n",
    "Boom = complete['Difference in followers from previous day'].mean()\n",
    "\n",
    "print(f'Mean Video views is ', Three)\n",
    "print(f'Mean Likes is ', Two)\n",
    "print(f'Mean Comments is ', One)\n",
    "print(f'Mean DFPD is ', Boom)"
   ]
  },
  {
   "cell_type": "markdown",
   "id": "46068fe6",
   "metadata": {
    "id": "46068fe6"
   },
   "source": [
    "#### Sort Video with Higher Comments → Lower comments"
   ]
  },
  {
   "cell_type": "code",
   "execution_count": 5,
   "id": "ef16e2b6",
   "metadata": {
    "id": "ef16e2b6"
   },
   "outputs": [
    {
     "data": {
      "text/html": [
       "<div>\n",
       "<style scoped>\n",
       "    .dataframe tbody tr th:only-of-type {\n",
       "        vertical-align: middle;\n",
       "    }\n",
       "\n",
       "    .dataframe tbody tr th {\n",
       "        vertical-align: top;\n",
       "    }\n",
       "\n",
       "    .dataframe thead th {\n",
       "        text-align: right;\n",
       "    }\n",
       "</style>\n",
       "<table border=\"1\" class=\"dataframe\">\n",
       "  <thead>\n",
       "    <tr style=\"text-align: right;\">\n",
       "      <th></th>\n",
       "      <th>Date_x</th>\n",
       "      <th>Video views</th>\n",
       "      <th>Profile views</th>\n",
       "      <th>Likes_x</th>\n",
       "      <th>Comments</th>\n",
       "      <th>Shares_x</th>\n",
       "      <th>Date_y</th>\n",
       "      <th>New followers</th>\n",
       "      <th>Viewers who commented</th>\n",
       "      <th>Likes_y</th>\n",
       "      <th>Shares_y</th>\n",
       "      <th>Date</th>\n",
       "      <th>Followers</th>\n",
       "      <th>Difference in followers from previous day</th>\n",
       "    </tr>\n",
       "  </thead>\n",
       "  <tbody>\n",
       "    <tr>\n",
       "      <th>34</th>\n",
       "      <td>24/7/2022</td>\n",
       "      <td>1197</td>\n",
       "      <td>25</td>\n",
       "      <td>120</td>\n",
       "      <td>62</td>\n",
       "      <td>0</td>\n",
       "      <td>24/7/2022</td>\n",
       "      <td>4</td>\n",
       "      <td>4</td>\n",
       "      <td>1486</td>\n",
       "      <td>3</td>\n",
       "      <td>24/7/2022</td>\n",
       "      <td>9866</td>\n",
       "      <td>14</td>\n",
       "    </tr>\n",
       "    <tr>\n",
       "      <th>24</th>\n",
       "      <td>14/7/2022</td>\n",
       "      <td>714</td>\n",
       "      <td>22</td>\n",
       "      <td>44</td>\n",
       "      <td>13</td>\n",
       "      <td>0</td>\n",
       "      <td>14/7/2022</td>\n",
       "      <td>19</td>\n",
       "      <td>19</td>\n",
       "      <td>7575</td>\n",
       "      <td>14</td>\n",
       "      <td>14/7/2022</td>\n",
       "      <td>9800</td>\n",
       "      <td>-57</td>\n",
       "    </tr>\n",
       "    <tr>\n",
       "      <th>9</th>\n",
       "      <td>29/6/2022</td>\n",
       "      <td>328</td>\n",
       "      <td>13</td>\n",
       "      <td>23</td>\n",
       "      <td>13</td>\n",
       "      <td>0</td>\n",
       "      <td>29/6/2022</td>\n",
       "      <td>7</td>\n",
       "      <td>10</td>\n",
       "      <td>4245</td>\n",
       "      <td>2</td>\n",
       "      <td>29/6/2022</td>\n",
       "      <td>9797</td>\n",
       "      <td>-20</td>\n",
       "    </tr>\n",
       "    <tr>\n",
       "      <th>26</th>\n",
       "      <td>16/7/2022</td>\n",
       "      <td>2251</td>\n",
       "      <td>47</td>\n",
       "      <td>87</td>\n",
       "      <td>12</td>\n",
       "      <td>3</td>\n",
       "      <td>16/7/2022</td>\n",
       "      <td>8</td>\n",
       "      <td>11</td>\n",
       "      <td>4699</td>\n",
       "      <td>3</td>\n",
       "      <td>16/7/2022</td>\n",
       "      <td>9814</td>\n",
       "      <td>12</td>\n",
       "    </tr>\n",
       "    <tr>\n",
       "      <th>28</th>\n",
       "      <td>18/7/2022</td>\n",
       "      <td>40185</td>\n",
       "      <td>263</td>\n",
       "      <td>1837</td>\n",
       "      <td>11</td>\n",
       "      <td>4</td>\n",
       "      <td>18/7/2022</td>\n",
       "      <td>8</td>\n",
       "      <td>24</td>\n",
       "      <td>6062</td>\n",
       "      <td>7</td>\n",
       "      <td>18/7/2022</td>\n",
       "      <td>9841</td>\n",
       "      <td>26</td>\n",
       "    </tr>\n",
       "  </tbody>\n",
       "</table>\n",
       "</div>"
      ],
      "text/plain": [
       "       Date_x  Video views  Profile views  Likes_x  Comments  Shares_x  \\\n",
       "34  24/7/2022         1197             25      120        62         0   \n",
       "24  14/7/2022          714             22       44        13         0   \n",
       "9   29/6/2022          328             13       23        13         0   \n",
       "26  16/7/2022         2251             47       87        12         3   \n",
       "28  18/7/2022        40185            263     1837        11         4   \n",
       "\n",
       "       Date_y   New followers  Viewers who commented  Likes_y  Shares_y  \\\n",
       "34  24/7/2022               4                      4     1486         3   \n",
       "24  14/7/2022              19                     19     7575        14   \n",
       "9   29/6/2022               7                     10     4245         2   \n",
       "26  16/7/2022               8                     11     4699         3   \n",
       "28  18/7/2022               8                     24     6062         7   \n",
       "\n",
       "         Date  Followers  Difference in followers from previous day  \n",
       "34  24/7/2022       9866                                         14  \n",
       "24  14/7/2022       9800                                        -57  \n",
       "9   29/6/2022       9797                                        -20  \n",
       "26  16/7/2022       9814                                         12  \n",
       "28  18/7/2022       9841                                         26  "
      ]
     },
     "execution_count": 5,
     "metadata": {},
     "output_type": "execute_result"
    }
   ],
   "source": [
    "#Show only top 5 rows.\n",
    "complete.sort_values('Comments', ascending=False).head(5)"
   ]
  },
  {
   "cell_type": "markdown",
   "id": "f89c84c1",
   "metadata": {},
   "source": [
    "After sorting, we have to calculate New followers from Video by formula below \n",
    "\n",
    "New followers from Video = DFPD - New followers(Live) "
   ]
  },
  {
   "cell_type": "code",
   "execution_count": 6,
   "id": "0b0e07cd",
   "metadata": {},
   "outputs": [
    {
     "data": {
      "text/html": [
       "<div>\n",
       "<style scoped>\n",
       "    .dataframe tbody tr th:only-of-type {\n",
       "        vertical-align: middle;\n",
       "    }\n",
       "\n",
       "    .dataframe tbody tr th {\n",
       "        vertical-align: top;\n",
       "    }\n",
       "\n",
       "    .dataframe thead th {\n",
       "        text-align: right;\n",
       "    }\n",
       "</style>\n",
       "<table border=\"1\" class=\"dataframe\">\n",
       "  <thead>\n",
       "    <tr style=\"text-align: right;\">\n",
       "      <th></th>\n",
       "      <th>Date_x</th>\n",
       "      <th>Video views</th>\n",
       "      <th>Profile views</th>\n",
       "      <th>Likes_x</th>\n",
       "      <th>Comments</th>\n",
       "      <th>Shares_x</th>\n",
       "      <th>Date_y</th>\n",
       "      <th>New followers</th>\n",
       "      <th>Viewers who commented</th>\n",
       "      <th>Likes_y</th>\n",
       "      <th>Shares_y</th>\n",
       "      <th>Date</th>\n",
       "      <th>Followers</th>\n",
       "      <th>Difference in followers from previous day</th>\n",
       "      <th>Sum</th>\n",
       "      <th>Followers/Comments</th>\n",
       "    </tr>\n",
       "  </thead>\n",
       "  <tbody>\n",
       "    <tr>\n",
       "      <th>34</th>\n",
       "      <td>24/7/2022</td>\n",
       "      <td>1197</td>\n",
       "      <td>25</td>\n",
       "      <td>120</td>\n",
       "      <td>62</td>\n",
       "      <td>0</td>\n",
       "      <td>24/7/2022</td>\n",
       "      <td>4</td>\n",
       "      <td>4</td>\n",
       "      <td>1486</td>\n",
       "      <td>3</td>\n",
       "      <td>24/7/2022</td>\n",
       "      <td>9866</td>\n",
       "      <td>14</td>\n",
       "      <td>10</td>\n",
       "      <td>0.161290</td>\n",
       "    </tr>\n",
       "    <tr>\n",
       "      <th>24</th>\n",
       "      <td>14/7/2022</td>\n",
       "      <td>714</td>\n",
       "      <td>22</td>\n",
       "      <td>44</td>\n",
       "      <td>13</td>\n",
       "      <td>0</td>\n",
       "      <td>14/7/2022</td>\n",
       "      <td>19</td>\n",
       "      <td>19</td>\n",
       "      <td>7575</td>\n",
       "      <td>14</td>\n",
       "      <td>14/7/2022</td>\n",
       "      <td>9800</td>\n",
       "      <td>-57</td>\n",
       "      <td>-76</td>\n",
       "      <td>-5.846154</td>\n",
       "    </tr>\n",
       "    <tr>\n",
       "      <th>9</th>\n",
       "      <td>29/6/2022</td>\n",
       "      <td>328</td>\n",
       "      <td>13</td>\n",
       "      <td>23</td>\n",
       "      <td>13</td>\n",
       "      <td>0</td>\n",
       "      <td>29/6/2022</td>\n",
       "      <td>7</td>\n",
       "      <td>10</td>\n",
       "      <td>4245</td>\n",
       "      <td>2</td>\n",
       "      <td>29/6/2022</td>\n",
       "      <td>9797</td>\n",
       "      <td>-20</td>\n",
       "      <td>-27</td>\n",
       "      <td>-2.076923</td>\n",
       "    </tr>\n",
       "    <tr>\n",
       "      <th>26</th>\n",
       "      <td>16/7/2022</td>\n",
       "      <td>2251</td>\n",
       "      <td>47</td>\n",
       "      <td>87</td>\n",
       "      <td>12</td>\n",
       "      <td>3</td>\n",
       "      <td>16/7/2022</td>\n",
       "      <td>8</td>\n",
       "      <td>11</td>\n",
       "      <td>4699</td>\n",
       "      <td>3</td>\n",
       "      <td>16/7/2022</td>\n",
       "      <td>9814</td>\n",
       "      <td>12</td>\n",
       "      <td>4</td>\n",
       "      <td>0.333333</td>\n",
       "    </tr>\n",
       "    <tr>\n",
       "      <th>28</th>\n",
       "      <td>18/7/2022</td>\n",
       "      <td>40185</td>\n",
       "      <td>263</td>\n",
       "      <td>1837</td>\n",
       "      <td>11</td>\n",
       "      <td>4</td>\n",
       "      <td>18/7/2022</td>\n",
       "      <td>8</td>\n",
       "      <td>24</td>\n",
       "      <td>6062</td>\n",
       "      <td>7</td>\n",
       "      <td>18/7/2022</td>\n",
       "      <td>9841</td>\n",
       "      <td>26</td>\n",
       "      <td>18</td>\n",
       "      <td>1.636364</td>\n",
       "    </tr>\n",
       "  </tbody>\n",
       "</table>\n",
       "</div>"
      ],
      "text/plain": [
       "       Date_x  Video views  Profile views  Likes_x  Comments  Shares_x  \\\n",
       "34  24/7/2022         1197             25      120        62         0   \n",
       "24  14/7/2022          714             22       44        13         0   \n",
       "9   29/6/2022          328             13       23        13         0   \n",
       "26  16/7/2022         2251             47       87        12         3   \n",
       "28  18/7/2022        40185            263     1837        11         4   \n",
       "\n",
       "       Date_y   New followers  Viewers who commented  Likes_y  Shares_y  \\\n",
       "34  24/7/2022               4                      4     1486         3   \n",
       "24  14/7/2022              19                     19     7575        14   \n",
       "9   29/6/2022               7                     10     4245         2   \n",
       "26  16/7/2022               8                     11     4699         3   \n",
       "28  18/7/2022               8                     24     6062         7   \n",
       "\n",
       "         Date  Followers  Difference in followers from previous day  Sum  \\\n",
       "34  24/7/2022       9866                                         14   10   \n",
       "24  14/7/2022       9800                                        -57  -76   \n",
       "9   29/6/2022       9797                                        -20  -27   \n",
       "26  16/7/2022       9814                                         12    4   \n",
       "28  18/7/2022       9841                                         26   18   \n",
       "\n",
       "    Followers/Comments  \n",
       "34            0.161290  \n",
       "24           -5.846154  \n",
       "9            -2.076923  \n",
       "26            0.333333  \n",
       "28            1.636364  "
      ]
     },
     "execution_count": 6,
     "metadata": {},
     "output_type": "execute_result"
    }
   ],
   "source": [
    "#Add Sum column for New followers from Video\n",
    "complete['Sum'] = complete['Difference in followers from previous day'] - complete[' New followers']\n",
    "complete['Followers/Comments'] = complete['Sum'] / complete['Comments']\n",
    "complete.sort_values('Comments', ascending=False).head(5)\n",
    "# As a reminder, my Mean DFPD is 1.22"
   ]
  },
  {
   "cell_type": "markdown",
   "id": "b42538bb",
   "metadata": {},
   "source": [
    "After tracking Videos in the Tiktok account from Date since there are more than one video in several days\n",
    "\n",
    "We got these three videoes:\n",
    "\n",
    "1)https://www.tiktok.com/@corymink/video/7123157066981592347?is_from_webapp=1&sender_device=pc&web_id=7128764110100137474\n",
    "2)https://www.tiktok.com/@corymink/video/7120842999503801627?is_from_webapp=1&sender_device=pc&web_id=7128764110100137474\n",
    "3)https://www.tiktok.com/@corymink/video/7121582827614768411?is_from_webapp=1&sender_device=pc&web_id=7128764110100137474\n",
    "\n",
    "After checking, they are all dirty joke videos.\n",
    "\n",
    "Followers/Comments Ratios are for comparing with the Live performance"
   ]
  },
  {
   "cell_type": "markdown",
   "id": "f0fd30b7",
   "metadata": {
    "id": "f0fd30b7"
   },
   "source": [
    "#### Sort New followers from Live with Higher Comments → Lower comments"
   ]
  },
  {
   "cell_type": "code",
   "execution_count": 7,
   "id": "4b33a152",
   "metadata": {
    "id": "4b33a152"
   },
   "outputs": [
    {
     "data": {
      "text/html": [
       "<div>\n",
       "<style scoped>\n",
       "    .dataframe tbody tr th:only-of-type {\n",
       "        vertical-align: middle;\n",
       "    }\n",
       "\n",
       "    .dataframe tbody tr th {\n",
       "        vertical-align: top;\n",
       "    }\n",
       "\n",
       "    .dataframe thead th {\n",
       "        text-align: right;\n",
       "    }\n",
       "</style>\n",
       "<table border=\"1\" class=\"dataframe\">\n",
       "  <thead>\n",
       "    <tr style=\"text-align: right;\">\n",
       "      <th></th>\n",
       "      <th>Date_x</th>\n",
       "      <th>Video views</th>\n",
       "      <th>Profile views</th>\n",
       "      <th>Likes_x</th>\n",
       "      <th>Comments</th>\n",
       "      <th>Shares_x</th>\n",
       "      <th>Date_y</th>\n",
       "      <th>New followers</th>\n",
       "      <th>Viewers who commented</th>\n",
       "      <th>Likes_y</th>\n",
       "      <th>Shares_y</th>\n",
       "      <th>Date</th>\n",
       "      <th>Followers</th>\n",
       "      <th>Difference in followers from previous day</th>\n",
       "      <th>Sum</th>\n",
       "      <th>Followers/Comments</th>\n",
       "    </tr>\n",
       "  </thead>\n",
       "  <tbody>\n",
       "    <tr>\n",
       "      <th>28</th>\n",
       "      <td>18/7/2022</td>\n",
       "      <td>40185</td>\n",
       "      <td>263</td>\n",
       "      <td>1837</td>\n",
       "      <td>11</td>\n",
       "      <td>4</td>\n",
       "      <td>18/7/2022</td>\n",
       "      <td>8</td>\n",
       "      <td>24</td>\n",
       "      <td>6062</td>\n",
       "      <td>7</td>\n",
       "      <td>18/7/2022</td>\n",
       "      <td>9841</td>\n",
       "      <td>26</td>\n",
       "      <td>18</td>\n",
       "      <td>1.636364</td>\n",
       "    </tr>\n",
       "    <tr>\n",
       "      <th>24</th>\n",
       "      <td>14/7/2022</td>\n",
       "      <td>714</td>\n",
       "      <td>22</td>\n",
       "      <td>44</td>\n",
       "      <td>13</td>\n",
       "      <td>0</td>\n",
       "      <td>14/7/2022</td>\n",
       "      <td>19</td>\n",
       "      <td>19</td>\n",
       "      <td>7575</td>\n",
       "      <td>14</td>\n",
       "      <td>14/7/2022</td>\n",
       "      <td>9800</td>\n",
       "      <td>-57</td>\n",
       "      <td>-76</td>\n",
       "      <td>-5.846154</td>\n",
       "    </tr>\n",
       "    <tr>\n",
       "      <th>33</th>\n",
       "      <td>23/7/2022</td>\n",
       "      <td>1541</td>\n",
       "      <td>26</td>\n",
       "      <td>59</td>\n",
       "      <td>11</td>\n",
       "      <td>5</td>\n",
       "      <td>23/7/2022</td>\n",
       "      <td>4</td>\n",
       "      <td>18</td>\n",
       "      <td>6063</td>\n",
       "      <td>10</td>\n",
       "      <td>23/7/2022</td>\n",
       "      <td>9852</td>\n",
       "      <td>9</td>\n",
       "      <td>5</td>\n",
       "      <td>0.454545</td>\n",
       "    </tr>\n",
       "    <tr>\n",
       "      <th>32</th>\n",
       "      <td>22/7/2022</td>\n",
       "      <td>703</td>\n",
       "      <td>10</td>\n",
       "      <td>18</td>\n",
       "      <td>7</td>\n",
       "      <td>0</td>\n",
       "      <td>22/7/2022</td>\n",
       "      <td>2</td>\n",
       "      <td>15</td>\n",
       "      <td>4583</td>\n",
       "      <td>7</td>\n",
       "      <td>22/7/2022</td>\n",
       "      <td>9843</td>\n",
       "      <td>4</td>\n",
       "      <td>2</td>\n",
       "      <td>0.285714</td>\n",
       "    </tr>\n",
       "    <tr>\n",
       "      <th>45</th>\n",
       "      <td>4/8/2022</td>\n",
       "      <td>250</td>\n",
       "      <td>6</td>\n",
       "      <td>11</td>\n",
       "      <td>1</td>\n",
       "      <td>0</td>\n",
       "      <td>4/8/2022</td>\n",
       "      <td>2</td>\n",
       "      <td>14</td>\n",
       "      <td>6055</td>\n",
       "      <td>13</td>\n",
       "      <td>4/8/2022</td>\n",
       "      <td>9865</td>\n",
       "      <td>2</td>\n",
       "      <td>0</td>\n",
       "      <td>0.000000</td>\n",
       "    </tr>\n",
       "  </tbody>\n",
       "</table>\n",
       "</div>"
      ],
      "text/plain": [
       "       Date_x  Video views  Profile views  Likes_x  Comments  Shares_x  \\\n",
       "28  18/7/2022        40185            263     1837        11         4   \n",
       "24  14/7/2022          714             22       44        13         0   \n",
       "33  23/7/2022         1541             26       59        11         5   \n",
       "32  22/7/2022          703             10       18         7         0   \n",
       "45   4/8/2022          250              6       11         1         0   \n",
       "\n",
       "       Date_y   New followers  Viewers who commented  Likes_y  Shares_y  \\\n",
       "28  18/7/2022               8                     24     6062         7   \n",
       "24  14/7/2022              19                     19     7575        14   \n",
       "33  23/7/2022               4                     18     6063        10   \n",
       "32  22/7/2022               2                     15     4583         7   \n",
       "45   4/8/2022               2                     14     6055        13   \n",
       "\n",
       "         Date  Followers  Difference in followers from previous day  Sum  \\\n",
       "28  18/7/2022       9841                                         26   18   \n",
       "24  14/7/2022       9800                                        -57  -76   \n",
       "33  23/7/2022       9852                                          9    5   \n",
       "32  22/7/2022       9843                                          4    2   \n",
       "45   4/8/2022       9865                                          2    0   \n",
       "\n",
       "    Followers/Comments  \n",
       "28            1.636364  \n",
       "24           -5.846154  \n",
       "33            0.454545  \n",
       "32            0.285714  \n",
       "45            0.000000  "
      ]
     },
     "execution_count": 7,
     "metadata": {},
     "output_type": "execute_result"
    }
   ],
   "source": [
    "#Show only top 5 rows.\n",
    "complete.sort_values('Viewers who commented', ascending=False).head(5)"
   ]
  },
  {
   "cell_type": "code",
   "execution_count": 16,
   "id": "91e8aa1b",
   "metadata": {},
   "outputs": [
    {
     "data": {
      "text/html": [
       "<div>\n",
       "<style scoped>\n",
       "    .dataframe tbody tr th:only-of-type {\n",
       "        vertical-align: middle;\n",
       "    }\n",
       "\n",
       "    .dataframe tbody tr th {\n",
       "        vertical-align: top;\n",
       "    }\n",
       "\n",
       "    .dataframe thead th {\n",
       "        text-align: right;\n",
       "    }\n",
       "</style>\n",
       "<table border=\"1\" class=\"dataframe\">\n",
       "  <thead>\n",
       "    <tr style=\"text-align: right;\">\n",
       "      <th></th>\n",
       "      <th>Date_x</th>\n",
       "      <th>Video views</th>\n",
       "      <th>Profile views</th>\n",
       "      <th>Likes_x</th>\n",
       "      <th>Comments</th>\n",
       "      <th>Shares_x</th>\n",
       "      <th>Date_y</th>\n",
       "      <th>New followers</th>\n",
       "      <th>Viewers who commented</th>\n",
       "      <th>Likes_y</th>\n",
       "      <th>Shares_y</th>\n",
       "      <th>Date</th>\n",
       "      <th>Followers</th>\n",
       "      <th>Difference in followers from previous day</th>\n",
       "      <th>Sum</th>\n",
       "      <th>Followers/Comments</th>\n",
       "    </tr>\n",
       "  </thead>\n",
       "  <tbody>\n",
       "    <tr>\n",
       "      <th>34</th>\n",
       "      <td>24/7/2022</td>\n",
       "      <td>1197</td>\n",
       "      <td>25</td>\n",
       "      <td>120</td>\n",
       "      <td>62</td>\n",
       "      <td>0</td>\n",
       "      <td>24/7/2022</td>\n",
       "      <td>4</td>\n",
       "      <td>4</td>\n",
       "      <td>1486</td>\n",
       "      <td>3</td>\n",
       "      <td>24/7/2022</td>\n",
       "      <td>9866</td>\n",
       "      <td>14</td>\n",
       "      <td>10</td>\n",
       "      <td>1.000000</td>\n",
       "    </tr>\n",
       "    <tr>\n",
       "      <th>24</th>\n",
       "      <td>14/7/2022</td>\n",
       "      <td>714</td>\n",
       "      <td>22</td>\n",
       "      <td>44</td>\n",
       "      <td>13</td>\n",
       "      <td>0</td>\n",
       "      <td>14/7/2022</td>\n",
       "      <td>19</td>\n",
       "      <td>19</td>\n",
       "      <td>7575</td>\n",
       "      <td>14</td>\n",
       "      <td>14/7/2022</td>\n",
       "      <td>9800</td>\n",
       "      <td>-57</td>\n",
       "      <td>-76</td>\n",
       "      <td>1.000000</td>\n",
       "    </tr>\n",
       "    <tr>\n",
       "      <th>9</th>\n",
       "      <td>29/6/2022</td>\n",
       "      <td>328</td>\n",
       "      <td>13</td>\n",
       "      <td>23</td>\n",
       "      <td>13</td>\n",
       "      <td>0</td>\n",
       "      <td>29/6/2022</td>\n",
       "      <td>7</td>\n",
       "      <td>10</td>\n",
       "      <td>4245</td>\n",
       "      <td>2</td>\n",
       "      <td>29/6/2022</td>\n",
       "      <td>9797</td>\n",
       "      <td>-20</td>\n",
       "      <td>-27</td>\n",
       "      <td>0.700000</td>\n",
       "    </tr>\n",
       "    <tr>\n",
       "      <th>26</th>\n",
       "      <td>16/7/2022</td>\n",
       "      <td>2251</td>\n",
       "      <td>47</td>\n",
       "      <td>87</td>\n",
       "      <td>12</td>\n",
       "      <td>3</td>\n",
       "      <td>16/7/2022</td>\n",
       "      <td>8</td>\n",
       "      <td>11</td>\n",
       "      <td>4699</td>\n",
       "      <td>3</td>\n",
       "      <td>16/7/2022</td>\n",
       "      <td>9814</td>\n",
       "      <td>12</td>\n",
       "      <td>4</td>\n",
       "      <td>0.727273</td>\n",
       "    </tr>\n",
       "    <tr>\n",
       "      <th>28</th>\n",
       "      <td>18/7/2022</td>\n",
       "      <td>40185</td>\n",
       "      <td>263</td>\n",
       "      <td>1837</td>\n",
       "      <td>11</td>\n",
       "      <td>4</td>\n",
       "      <td>18/7/2022</td>\n",
       "      <td>8</td>\n",
       "      <td>24</td>\n",
       "      <td>6062</td>\n",
       "      <td>7</td>\n",
       "      <td>18/7/2022</td>\n",
       "      <td>9841</td>\n",
       "      <td>26</td>\n",
       "      <td>18</td>\n",
       "      <td>0.333333</td>\n",
       "    </tr>\n",
       "  </tbody>\n",
       "</table>\n",
       "</div>"
      ],
      "text/plain": [
       "       Date_x  Video views  Profile views  Likes_x  Comments  Shares_x  \\\n",
       "34  24/7/2022         1197             25      120        62         0   \n",
       "24  14/7/2022          714             22       44        13         0   \n",
       "9   29/6/2022          328             13       23        13         0   \n",
       "26  16/7/2022         2251             47       87        12         3   \n",
       "28  18/7/2022        40185            263     1837        11         4   \n",
       "\n",
       "       Date_y   New followers  Viewers who commented  Likes_y  Shares_y  \\\n",
       "34  24/7/2022               4                      4     1486         3   \n",
       "24  14/7/2022              19                     19     7575        14   \n",
       "9   29/6/2022               7                     10     4245         2   \n",
       "26  16/7/2022               8                     11     4699         3   \n",
       "28  18/7/2022               8                     24     6062         7   \n",
       "\n",
       "         Date  Followers  Difference in followers from previous day  Sum  \\\n",
       "34  24/7/2022       9866                                         14   10   \n",
       "24  14/7/2022       9800                                        -57  -76   \n",
       "9   29/6/2022       9797                                        -20  -27   \n",
       "26  16/7/2022       9814                                         12    4   \n",
       "28  18/7/2022       9841                                         26   18   \n",
       "\n",
       "    Followers/Comments  \n",
       "34            1.000000  \n",
       "24            1.000000  \n",
       "9             0.700000  \n",
       "26            0.727273  \n",
       "28            0.333333  "
      ]
     },
     "execution_count": 16,
     "metadata": {},
     "output_type": "execute_result"
    }
   ],
   "source": [
    "#Add Sum column for New followers from Live\n",
    "complete['Followers/Comments'] = complete[' New followers'] / complete['Viewers who commented']\n",
    "complete.sort_values('Comments', ascending=False).head(5)"
   ]
  },
  {
   "cell_type": "markdown",
   "id": "b72fc984",
   "metadata": {},
   "source": [
    "It seems like Live has a better Followers/Comments ratio since, there are pairs of 1.0 and 0.7 ratio"
   ]
  },
  {
   "cell_type": "markdown",
   "id": "cd408496",
   "metadata": {
    "id": "cd408496"
   },
   "source": [
    "#### Sort followers activity by Hour"
   ]
  },
  {
   "cell_type": "code",
   "execution_count": 9,
   "id": "11dd5d89",
   "metadata": {
    "id": "11dd5d89",
    "scrolled": true
   },
   "outputs": [
    {
     "data": {
      "text/html": [
       "<div>\n",
       "<style scoped>\n",
       "    .dataframe tbody tr th:only-of-type {\n",
       "        vertical-align: middle;\n",
       "    }\n",
       "\n",
       "    .dataframe tbody tr th {\n",
       "        vertical-align: top;\n",
       "    }\n",
       "\n",
       "    .dataframe thead th {\n",
       "        text-align: right;\n",
       "    }\n",
       "</style>\n",
       "<table border=\"1\" class=\"dataframe\">\n",
       "  <thead>\n",
       "    <tr style=\"text-align: right;\">\n",
       "      <th></th>\n",
       "      <th>Date</th>\n",
       "      <th>Hour</th>\n",
       "      <th>Active followers</th>\n",
       "    </tr>\n",
       "  </thead>\n",
       "  <tbody>\n",
       "    <tr>\n",
       "      <th>44</th>\n",
       "      <td>2022-08-11</td>\n",
       "      <td>21</td>\n",
       "      <td>1575</td>\n",
       "    </tr>\n",
       "    <tr>\n",
       "      <th>164</th>\n",
       "      <td>2022-08-16</td>\n",
       "      <td>21</td>\n",
       "      <td>1571</td>\n",
       "    </tr>\n",
       "    <tr>\n",
       "      <th>20</th>\n",
       "      <td>2022-08-10</td>\n",
       "      <td>21</td>\n",
       "      <td>1548</td>\n",
       "    </tr>\n",
       "    <tr>\n",
       "      <th>140</th>\n",
       "      <td>2022-08-15</td>\n",
       "      <td>21</td>\n",
       "      <td>1522</td>\n",
       "    </tr>\n",
       "    <tr>\n",
       "      <th>68</th>\n",
       "      <td>2022-08-12</td>\n",
       "      <td>21</td>\n",
       "      <td>1500</td>\n",
       "    </tr>\n",
       "    <tr>\n",
       "      <th>139</th>\n",
       "      <td>2022-08-15</td>\n",
       "      <td>20</td>\n",
       "      <td>1498</td>\n",
       "    </tr>\n",
       "    <tr>\n",
       "      <th>188</th>\n",
       "      <td>2022-08-17</td>\n",
       "      <td>21</td>\n",
       "      <td>1498</td>\n",
       "    </tr>\n",
       "    <tr>\n",
       "      <th>92</th>\n",
       "      <td>2022-08-13</td>\n",
       "      <td>21</td>\n",
       "      <td>1478</td>\n",
       "    </tr>\n",
       "    <tr>\n",
       "      <th>116</th>\n",
       "      <td>2022-08-14</td>\n",
       "      <td>21</td>\n",
       "      <td>1477</td>\n",
       "    </tr>\n",
       "    <tr>\n",
       "      <th>19</th>\n",
       "      <td>2022-08-10</td>\n",
       "      <td>20</td>\n",
       "      <td>1475</td>\n",
       "    </tr>\n",
       "  </tbody>\n",
       "</table>\n",
       "</div>"
      ],
      "text/plain": [
       "           Date  Hour  Active followers\n",
       "44   2022-08-11    21              1575\n",
       "164  2022-08-16    21              1571\n",
       "20   2022-08-10    21              1548\n",
       "140  2022-08-15    21              1522\n",
       "68   2022-08-12    21              1500\n",
       "139  2022-08-15    20              1498\n",
       "188  2022-08-17    21              1498\n",
       "92   2022-08-13    21              1478\n",
       "116  2022-08-14    21              1477\n",
       "19   2022-08-10    20              1475"
      ]
     },
     "execution_count": 9,
     "metadata": {},
     "output_type": "execute_result"
    }
   ],
   "source": [
    "fa.sort_values('Active followers', ascending=False).head(10)"
   ]
  },
  {
   "cell_type": "markdown",
   "id": "9054da98",
   "metadata": {},
   "source": [
    "After checking the calendar, day of the week doesn't really matters for posting video or doing Live\n",
    "\n",
    "We can only focus on 21 pm which will be tested with Video and Live later on to see that Video or Live\n",
    "\n",
    "could do better around this period of time."
   ]
  },
  {
   "cell_type": "markdown",
   "id": "bd0fd694",
   "metadata": {
    "id": "bd0fd694"
   },
   "source": [
    "## Key Findings:"
   ]
  },
  {
   "cell_type": "markdown",
   "id": "a4ab9073",
   "metadata": {
    "id": "a4ab9073"
   },
   "source": [
    "### Comments are used as an indicator for follower's interest \n",
    "1. Dirty joke videoes are popular!!!\n",
    "2. Live attaches new followers better thann videoes\n",
    "3. Followers are active during 21.00 PM throughout the week."
   ]
  },
  {
   "cell_type": "markdown",
   "id": "f6482c36",
   "metadata": {
    "id": "f6482c36"
   },
   "source": [
    "<div class=\"alert alert-info\">\n",
    "<h3>What’s Next / Recommendation:</h3>\n",
    "</div>"
   ]
  },
  {
   "cell_type": "markdown",
   "id": "31c9acd3",
   "metadata": {
    "id": "31c9acd3"
   },
   "source": [
    "1. Focus more on Live\n",
    "2. Dirty jokes are recommended\n",
    "3. Post a video or Live around 21.00 PM everyday (need further investigation)"
   ]
  },
  {
   "cell_type": "markdown",
   "id": "a0252c39",
   "metadata": {
    "id": "a0252c39"
   },
   "source": [
    "<div class=\"alert alert-info\">\n",
    "<h3>Financial Benefit:</h3>\n",
    "</div>"
   ]
  },
  {
   "cell_type": "markdown",
   "id": "d8bb0f91",
   "metadata": {
    "id": "d8bb0f91"
   },
   "source": [
    "1. 10,000 followers will unlock Gifting system\n",
    "2. More followers increases chances for sponsorship from other companies"
   ]
  },
  {
   "cell_type": "markdown",
   "id": "d0a865d9",
   "metadata": {
    "id": "d0a865d9"
   },
   "source": [
    "<div class=\"alert alert-info\">\n",
    "<h3>Non-Financial Benefit:</h3>\n",
    "</div>"
   ]
  },
  {
   "cell_type": "markdown",
   "id": "0b3b9de0",
   "metadata": {
    "id": "0b3b9de0"
   },
   "source": [
    "1. Gain more popularity on Tiktok platform\n",
    "2. Make more fiends on Tiktok community"
   ]
  },
  {
   "cell_type": "markdown",
   "id": "c12d7bad",
   "metadata": {},
   "source": [
    "<div class=\"alert alert-info\">\n",
    "<h3>Testing:</h3>\n",
    "</div>"
   ]
  },
  {
   "cell_type": "markdown",
   "id": "083b905b",
   "metadata": {},
   "source": [
    "I tested out my keywword finding which are 'dirty joke' and '9 PM'\n",
    "<h4>My hypothesis</h4>\n",
    "'Dirty joke' is easy to understand and some experts say that humor is based on incongruity and saying taboo things are incongruity itself. In the other hand, '9 PM' is when people are ready to sleep, resting, having late diinner, etc. The point is they are free around this period of time and people always scroll their phone in their free-time which make it perfect for grasping this possibility."
   ]
  }
 ],
 "metadata": {
  "colab": {
   "collapsed_sections": [],
   "name": "Project_Template_PYT06.ipynb",
   "provenance": []
  },
  "kernelspec": {
   "display_name": "Python 3 (ipykernel)",
   "language": "python",
   "name": "python3"
  },
  "language_info": {
   "codemirror_mode": {
    "name": "ipython",
    "version": 3
   },
   "file_extension": ".py",
   "mimetype": "text/x-python",
   "name": "python",
   "nbconvert_exporter": "python",
   "pygments_lexer": "ipython3",
   "version": "3.9.12"
  },
  "varInspector": {
   "cols": {
    "lenName": 16,
    "lenType": 16,
    "lenVar": 40
   },
   "kernels_config": {
    "python": {
     "delete_cmd_postfix": "",
     "delete_cmd_prefix": "del ",
     "library": "var_list.py",
     "varRefreshCmd": "print(var_dic_list())"
    },
    "r": {
     "delete_cmd_postfix": ") ",
     "delete_cmd_prefix": "rm(",
     "library": "var_list.r",
     "varRefreshCmd": "cat(var_dic_list()) "
    }
   },
   "types_to_exclude": [
    "module",
    "function",
    "builtin_function_or_method",
    "instance",
    "_Feature"
   ],
   "window_display": false
  }
 },
 "nbformat": 4,
 "nbformat_minor": 5
}
